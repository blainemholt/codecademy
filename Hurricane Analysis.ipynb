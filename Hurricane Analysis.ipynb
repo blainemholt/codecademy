{
 "cells": [
  {
   "cell_type": "markdown",
   "id": "58875e7a",
   "metadata": {},
   "source": [
    "# Hurricane Analysis"
   ]
  },
  {
   "cell_type": "markdown",
   "id": "9a2d9627",
   "metadata": {},
   "source": [
    "#### Overview"
   ]
  },
  {
   "cell_type": "markdown",
   "id": "633e5dde",
   "metadata": {},
   "source": [
    "This project is slightly different than others you have encountered thus far. Instead of a step-by-step tutorial, this project contains a series of open-ended requirements which describe the project you'll be building. There are many possible ways to correctly fulfill all of these requirements, and you should expect to use the internet, Codecademy, and other resources when you encounter a problem that you cannot easily solve."
   ]
  },
  {
   "cell_type": "markdown",
   "id": "52f01f07",
   "metadata": {},
   "source": [
    "#### Project Goals"
   ]
  },
  {
   "cell_type": "markdown",
   "id": "d9d06c43",
   "metadata": {},
   "source": [
    "You will work to write several functions that organize and manipulate data about Category 5 Hurricanes, the strongest hurricanes as rated by their wind speed. Each one of these functions will use a number of parameters, conditionals, lists, dictionaries, string manipulation, and return statements."
   ]
  },
  {
   "cell_type": "markdown",
   "id": "7fbb9fb5",
   "metadata": {},
   "source": [
    "#### Prerequisites"
   ]
  },
  {
   "cell_type": "markdown",
   "id": "4732a1e8",
   "metadata": {},
   "source": [
    "In order to complete this project, you should have completed the Loops and Dictionaries sections of the [Learn Python 3 Course](https://www.codecademy.com/learn/learn-python-3). This content is also covered in the [Data Scientist Career Path](https://www.codecademy.com/learn/paths/data-science/)."
   ]
  },
  {
   "cell_type": "markdown",
   "id": "1e924903",
   "metadata": {},
   "source": [
    "## Project Requirements"
   ]
  },
  {
   "cell_type": "markdown",
   "id": "35d6f74d",
   "metadata": {},
   "source": [
    "1. Hurricanes, also known as cyclones or typhoons, are one of the most powerful forces of nature on Earth. Due to climate change caused by human activity, the number and intensity of hurricanes has risen, calling for better preparation by the many communities that are devastated by them. As a concerned environmentalist, you want to look at data about the most powerful hurricanes that have occured. \n",
    "\n",
    "   Begin by looking at the `damages` list. The list contains strings representing the total cost in USD(`$`) caused by `34` category 5 hurricanes (wind speeds $\\ge$ 157 mph (252 km/h)) in the Atlantic region. For some of the hurricanes, damage data was not recorded (`\"Damages not recorded\"`), while the rest are written in the format `\"Prefix-B/M\"`, where `B` stands for billions (`1000000000`) and `M` stands for millions (`1000000`).\n",
    "   \n",
    "   Write a function that returns a new list of updated damages where the recorded data is converted to float values and the missing data is retained as `\"Damages not recorded\"`.\n",
    "   \n",
    "   Test your function with the data stored in `damages`."
   ]
  },
  {
   "cell_type": "code",
   "execution_count": 58,
   "id": "d8d3c50b",
   "metadata": {},
   "outputs": [],
   "source": [
    "# damages (USD($)) of hurricanes\n",
    "damages = ['Damages not recorded', '100M', 'Damages not recorded', '40M',\n",
    "          '27.9M', '5M', 'Damages not recorded', '306M', '2M', '65.8M',\n",
    "          '326M', '60.3M', '208M', '1.42B', '25.4M', 'Damages not recorded',\n",
    "          '1.54B', '1.24B', '7.1B', '10B', '26.5B', '6.2B', '5.37B', '23.3B',\n",
    "          '1.01B', '125B', '12B', '29.4B', '1.76B', '720M', '15.1B', '64.8B',\n",
    "          '91.6B', '25.1B']\n",
    "\n",
    "# 1\n",
    "# Update Recorded Damages\n",
    "conversion = {\"M\": 1000000,\n",
    "             \"B\": 1000000000}\n",
    "\n",
    "def update_damages(list):\n",
    "    new_list = [string.replace(\".\",\"\") for string in list]\n",
    "    for i in range(0,len(new_list)):\n",
    "        if new_list[i] != \"Damages not recorded\":\n",
    "            if \"M\" in new_list[i]:\n",
    "                new_list[i] = float(new_list[i][:-1])\n",
    "                new_list[i] = new_list[i] * conversion.get(\"M\")\n",
    "                #print(new_list[i])\n",
    "            else:\n",
    "                new_list[i] = float(new_list[i][:-1])\n",
    "                new_list[i] = new_list[i] * conversion.get(\"B\")\n",
    "                #print(new_list[i])\n",
    "\n",
    "    \n",
    "    return new_list\n",
    "\n",
    "# test function by updating damages\n",
    "updated_damages = update_damages(damages)"
   ]
  },
  {
   "cell_type": "markdown",
   "id": "36ac47b6",
   "metadata": {},
   "source": [
    "2. Additional data collected on the `34` strongest Atlantic hurricanes are provided in a series of lists. The data includes:\n",
    "   - `names`: names of the hurricanes\n",
    "   - `months`: months in which the hurricanes occurred\n",
    "   - `years`: years in which the hurricanes occurred\n",
    "   - `max_sustained_winds`: maximum sustained winds (miles per hour) of the hurricanes\n",
    "   - `areas_affected`: list of different areas affected by each of the hurricanes\n",
    "   - `deaths`: total number of deaths caused by each of the hurricanes\n",
    "   \n",
    "   The data is organized such that the data at each index, from `0` to `33`, corresponds to the same hurricane.\n",
    "   \n",
    "   For example, `names[0]` yields the \"Cuba I\" hurricane, which occurred in `months[0]` (October) `years[0]` (1924).\n",
    "   \n",
    "   Write a function that constructs a dictionary made out of the lists, where the keys of the dictionary are the names of the hurricanes, and the values are dictionaries themselves containing a key for each piece of data (`Name`, `Month`, `Year`, `Max Sustained Wind`, `Areas Affected`, `Damage`, `Death`) about the hurricane.\n",
    "   \n",
    "   Thus the key `\"Cuba I\"` would have the value: `{'Name': 'Cuba I', 'Month': 'October', 'Year': 1924, 'Max Sustained Wind': 165, 'Areas Affected': ['Central America', 'Mexico', 'Cuba', 'Florida', 'The Bahamas'], 'Damage': 'Damages not recorded', 'Deaths': 90}`.\n",
    "   \n",
    "   Test your function on the lists of data provided."
   ]
  },
  {
   "cell_type": "code",
   "execution_count": 59,
   "id": "641aa113",
   "metadata": {},
   "outputs": [
    {
     "name": "stdout",
     "output_type": "stream",
     "text": [
      "{'Cuba I': {'Name': 'Cuba I', 'Month': 'October', 'Year': 1924, 'Max Sustained Wind': 165, 'Areas Affected': ['Central America', 'Mexico', 'Cuba', 'Florida', 'The Bahamas'], 'Damage': 'Damages not recorded', 'Deaths': 90}, 'San Felipe II Okeechobee': {'Name': 'San Felipe II Okeechobee', 'Month': 'September', 'Year': 1928, 'Max Sustained Wind': 160, 'Areas Affected': ['Lesser Antilles', 'The Bahamas', 'United States East Coast', 'Atlantic Canada'], 'Damage': 100000000.0, 'Deaths': 4000}, 'Bahamas': {'Name': 'Bahamas', 'Month': 'September', 'Year': 1932, 'Max Sustained Wind': 160, 'Areas Affected': ['The Bahamas', 'Northeastern United States'], 'Damage': 'Damages not recorded', 'Deaths': 16}, 'Cuba II': {'Name': 'Cuba II', 'Month': 'November', 'Year': 1932, 'Max Sustained Wind': 175, 'Areas Affected': ['Lesser Antilles', 'Jamaica', 'Cayman Islands', 'Cuba', 'The Bahamas', 'Bermuda'], 'Damage': 40000000.0, 'Deaths': 3103}, 'CubaBrownsville': {'Name': 'CubaBrownsville', 'Month': 'August', 'Year': 1933, 'Max Sustained Wind': 160, 'Areas Affected': ['The Bahamas', 'Cuba', 'Florida', 'Texas', 'Tamaulipas'], 'Damage': 279000000.0, 'Deaths': 179}, 'Tampico': {'Name': 'Tampico', 'Month': 'September', 'Year': 1933, 'Max Sustained Wind': 160, 'Areas Affected': ['Jamaica', 'Yucatn Peninsula'], 'Damage': 5000000.0, 'Deaths': 184}, 'Labor Day': {'Name': 'Labor Day', 'Month': 'September', 'Year': 1935, 'Max Sustained Wind': 185, 'Areas Affected': ['The Bahamas', 'Florida', 'Georgia', 'The Carolinas', 'Virginia'], 'Damage': 'Damages not recorded', 'Deaths': 408}, 'New England': {'Name': 'New England', 'Month': 'September', 'Year': 1938, 'Max Sustained Wind': 160, 'Areas Affected': ['Southeastern United States', 'Northeastern United States', 'Southwestern Quebec'], 'Damage': 306000000.0, 'Deaths': 682}, 'Carol': {'Name': 'Carol', 'Month': 'September', 'Year': 1953, 'Max Sustained Wind': 160, 'Areas Affected': ['Bermuda', 'New England', 'Atlantic Canada'], 'Damage': 2000000.0, 'Deaths': 5}, 'Janet': {'Name': 'Janet', 'Month': 'September', 'Year': 1955, 'Max Sustained Wind': 175, 'Areas Affected': ['Lesser Antilles', 'Central America'], 'Damage': 658000000.0, 'Deaths': 1023}, 'Carla': {'Name': 'Carla', 'Month': 'September', 'Year': 1961, 'Max Sustained Wind': 175, 'Areas Affected': ['Texas', 'Louisiana', 'Midwestern United States'], 'Damage': 326000000.0, 'Deaths': 43}, 'Hattie': {'Name': 'Hattie', 'Month': 'October', 'Year': 1961, 'Max Sustained Wind': 160, 'Areas Affected': ['Central America'], 'Damage': 603000000.0, 'Deaths': 319}, 'Beulah': {'Name': 'Beulah', 'Month': 'September', 'Year': 1967, 'Max Sustained Wind': 160, 'Areas Affected': ['The Caribbean', 'Mexico', 'Texas'], 'Damage': 208000000.0, 'Deaths': 688}, 'Camille': {'Name': 'Camille', 'Month': 'August', 'Year': 1969, 'Max Sustained Wind': 175, 'Areas Affected': ['Cuba', 'United States Gulf Coast'], 'Damage': 142000000000.0, 'Deaths': 259}, 'Edith': {'Name': 'Edith', 'Month': 'September', 'Year': 1971, 'Max Sustained Wind': 160, 'Areas Affected': ['The Caribbean', 'Central America', 'Mexico', 'United States Gulf Coast'], 'Damage': 254000000.0, 'Deaths': 37}, 'Anita': {'Name': 'Anita', 'Month': 'September', 'Year': 1977, 'Max Sustained Wind': 175, 'Areas Affected': ['Mexico'], 'Damage': 'Damages not recorded', 'Deaths': 11}, 'David': {'Name': 'David', 'Month': 'August', 'Year': 1979, 'Max Sustained Wind': 175, 'Areas Affected': ['The Caribbean', 'United States East coast'], 'Damage': 154000000000.0, 'Deaths': 2068}, 'Allen': {'Name': 'Allen', 'Month': 'August', 'Year': 1980, 'Max Sustained Wind': 190, 'Areas Affected': ['The Caribbean', 'Yucatn Peninsula', 'Mexico', 'South Texas'], 'Damage': 124000000000.0, 'Deaths': 269}, 'Gilbert': {'Name': 'Gilbert', 'Month': 'September', 'Year': 1988, 'Max Sustained Wind': 185, 'Areas Affected': ['Jamaica', 'Venezuela', 'Central America', 'Hispaniola', 'Mexico'], 'Damage': 71000000000.0, 'Deaths': 318}, 'Hugo': {'Name': 'Hugo', 'Month': 'September', 'Year': 1989, 'Max Sustained Wind': 160, 'Areas Affected': ['The Caribbean', 'United States East Coast'], 'Damage': 10000000000.0, 'Deaths': 107}, 'Andrew': {'Name': 'Andrew', 'Month': 'August', 'Year': 1992, 'Max Sustained Wind': 175, 'Areas Affected': ['The Bahamas', 'Florida', 'United States Gulf Coast'], 'Damage': 265000000000.0, 'Deaths': 65}, 'Mitch': {'Name': 'Mitch', 'Month': 'October', 'Year': 1998, 'Max Sustained Wind': 180, 'Areas Affected': ['Central America', 'Yucatn Peninsula', 'South Florida'], 'Damage': 62000000000.0, 'Deaths': 19325}, 'Isabel': {'Name': 'Isabel', 'Month': 'September', 'Year': 2003, 'Max Sustained Wind': 165, 'Areas Affected': ['Greater Antilles', 'Bahamas', 'Eastern United States', 'Ontario'], 'Damage': 537000000000.0, 'Deaths': 51}, 'Ivan': {'Name': 'Ivan', 'Month': 'September', 'Year': 2004, 'Max Sustained Wind': 165, 'Areas Affected': ['The Caribbean', 'Venezuela', 'United States Gulf Coast'], 'Damage': 233000000000.0, 'Deaths': 124}, 'Emily': {'Name': 'Emily', 'Month': 'July', 'Year': 2005, 'Max Sustained Wind': 160, 'Areas Affected': ['Windward Islands', 'Jamaica', 'Mexico', 'Texas'], 'Damage': 101000000000.0, 'Deaths': 17}, 'Katrina': {'Name': 'Katrina', 'Month': 'August', 'Year': 2005, 'Max Sustained Wind': 175, 'Areas Affected': ['Bahamas', 'United States Gulf Coast'], 'Damage': 125000000000.0, 'Deaths': 1836}, 'Rita': {'Name': 'Rita', 'Month': 'September', 'Year': 2005, 'Max Sustained Wind': 180, 'Areas Affected': ['Cuba', 'United States Gulf Coast'], 'Damage': 12000000000.0, 'Deaths': 125}, 'Wilma': {'Name': 'Wilma', 'Month': 'October', 'Year': 2005, 'Max Sustained Wind': 185, 'Areas Affected': ['Greater Antilles', 'Central America', 'Florida'], 'Damage': 294000000000.0, 'Deaths': 87}, 'Dean': {'Name': 'Dean', 'Month': 'August', 'Year': 2007, 'Max Sustained Wind': 175, 'Areas Affected': ['The Caribbean', 'Central America'], 'Damage': 176000000000.0, 'Deaths': 45}, 'Felix': {'Name': 'Felix', 'Month': 'September', 'Year': 2007, 'Max Sustained Wind': 175, 'Areas Affected': ['Nicaragua', 'Honduras'], 'Damage': 720000000.0, 'Deaths': 133}, 'Matthew': {'Name': 'Matthew', 'Month': 'October', 'Year': 2016, 'Max Sustained Wind': 165, 'Areas Affected': ['Antilles', 'Venezuela', 'Colombia', 'United States East Coast', 'Atlantic Canada'], 'Damage': 151000000000.0, 'Deaths': 603}, 'Irma': {'Name': 'Irma', 'Month': 'September', 'Year': 2017, 'Max Sustained Wind': 180, 'Areas Affected': ['Cape Verde', 'The Caribbean', 'British Virgin Islands', 'U.S. Virgin Islands', 'Cuba', 'Florida'], 'Damage': 648000000000.0, 'Deaths': 138}, 'Maria': {'Name': 'Maria', 'Month': 'September', 'Year': 2017, 'Max Sustained Wind': 175, 'Areas Affected': ['Lesser Antilles', 'Virgin Islands', 'Puerto Rico', 'Dominican Republic', 'Turks and Caicos Islands'], 'Damage': 916000000000.0, 'Deaths': 3057}, 'Michael': {'Name': 'Michael', 'Month': 'October', 'Year': 2018, 'Max Sustained Wind': 160, 'Areas Affected': ['Central America', 'United States Gulf Coast (especially Florida Panhandle)'], 'Damage': 251000000000.0, 'Deaths': 74}}\n"
     ]
    }
   ],
   "source": [
    "# names of hurricanes\n",
    "names = ['Cuba I', 'San Felipe II Okeechobee', 'Bahamas', 'Cuba II', 'CubaBrownsville', 'Tampico', 'Labor Day', 'New England', 'Carol', 'Janet', 'Carla', 'Hattie', 'Beulah', 'Camille', 'Edith', 'Anita', 'David', 'Allen', 'Gilbert', 'Hugo', 'Andrew', 'Mitch', 'Isabel', 'Ivan', 'Emily', 'Katrina', 'Rita', 'Wilma', 'Dean', 'Felix', 'Matthew', 'Irma', 'Maria', 'Michael']\n",
    "\n",
    "# months of hurricanes\n",
    "months = ['October', 'September', 'September', 'November', 'August', 'September', 'September', 'September', 'September', 'September', 'September', 'October', 'September', 'August', 'September', 'September', 'August', 'August', 'September', 'September', 'August', 'October', 'September', 'September', 'July', 'August', 'September', 'October', 'August', 'September', 'October', 'September', 'September', 'October']\n",
    "\n",
    "# years of hurricanes\n",
    "years = [1924, 1928, 1932, 1932, 1933, 1933, 1935, 1938, 1953, 1955, 1961, 1961, 1967, 1969, 1971, 1977, 1979, 1980, 1988, 1989, 1992, 1998, 2003, 2004, 2005, 2005, 2005, 2005, 2007, 2007, 2016, 2017, 2017, 2018]\n",
    "\n",
    "# maximum sustained winds (mph) of hurricanes\n",
    "max_sustained_winds = [165, 160, 160, 175, 160, 160, 185, 160, 160, 175, 175, 160, 160, 175, 160, 175, 175, 190, 185, 160, 175, 180, 165, 165, 160, 175, 180, 185, 175, 175, 165, 180, 175, 160]\n",
    "\n",
    "# areas affected by each hurricane\n",
    "areas_affected = [['Central America', 'Mexico', 'Cuba', 'Florida', 'The Bahamas'], ['Lesser Antilles', 'The Bahamas', 'United States East Coast', 'Atlantic Canada'], ['The Bahamas', 'Northeastern United States'], ['Lesser Antilles', 'Jamaica', 'Cayman Islands', 'Cuba', 'The Bahamas', 'Bermuda'], ['The Bahamas', 'Cuba', 'Florida', 'Texas', 'Tamaulipas'], ['Jamaica', 'Yucatn Peninsula'], ['The Bahamas', 'Florida', 'Georgia', 'The Carolinas', 'Virginia'], ['Southeastern United States', 'Northeastern United States', 'Southwestern Quebec'], ['Bermuda', 'New England', 'Atlantic Canada'], ['Lesser Antilles', 'Central America'], ['Texas', 'Louisiana', 'Midwestern United States'], ['Central America'], ['The Caribbean', 'Mexico', 'Texas'], ['Cuba', 'United States Gulf Coast'], ['The Caribbean', 'Central America', 'Mexico', 'United States Gulf Coast'], ['Mexico'], ['The Caribbean', 'United States East coast'], ['The Caribbean', 'Yucatn Peninsula', 'Mexico', 'South Texas'], ['Jamaica', 'Venezuela', 'Central America', 'Hispaniola', 'Mexico'], ['The Caribbean', 'United States East Coast'], ['The Bahamas', 'Florida', 'United States Gulf Coast'], ['Central America', 'Yucatn Peninsula', 'South Florida'], ['Greater Antilles', 'Bahamas', 'Eastern United States', 'Ontario'], ['The Caribbean', 'Venezuela', 'United States Gulf Coast'], ['Windward Islands', 'Jamaica', 'Mexico', 'Texas'], ['Bahamas', 'United States Gulf Coast'], ['Cuba', 'United States Gulf Coast'], ['Greater Antilles', 'Central America', 'Florida'], ['The Caribbean', 'Central America'], ['Nicaragua', 'Honduras'], ['Antilles', 'Venezuela', 'Colombia', 'United States East Coast', 'Atlantic Canada'], ['Cape Verde', 'The Caribbean', 'British Virgin Islands', 'U.S. Virgin Islands', 'Cuba', 'Florida'], ['Lesser Antilles', 'Virgin Islands', 'Puerto Rico', 'Dominican Republic', 'Turks and Caicos Islands'], ['Central America', 'United States Gulf Coast (especially Florida Panhandle)']]\n",
    "\n",
    "# damages (USD($)) of hurricanes\n",
    "damages = ['Damages not recorded', '100M', 'Damages not recorded', '40M', '27.9M', '5M', 'Damages not recorded', '306M', '2M', '65.8M', '326M', '60.3M', '208M', '1.42B', '25.4M', 'Damages not recorded', '1.54B', '1.24B', '7.1B', '10B', '26.5B', '6.2B', '5.37B', '23.3B', '1.01B', '125B', '12B', '29.4B', '1.76B', '720M', '15.1B', '64.8B', '91.6B', '25.1B']\n",
    "\n",
    "# deaths for each hurricane\n",
    "deaths = [90,4000,16,3103,179,184,408,682,5,1023,43,319,688,259,37,11,2068,269,318,107,65,19325,51,124,17,1836,125,87,45,133,603,138,3057,74]\n",
    "\n",
    "# 2\n",
    "# Create a Table\n",
    "\n",
    "# Create and view the hurricanes dictionary\n",
    "\n",
    "def hurricanes_dictionary(names, months, years, max_sustained_winds, areas_affected, damages, deaths):\n",
    "    hurricanes = dict()\n",
    "    ln = len(names)\n",
    "    for i in range(ln):\n",
    "        hurricanes[names[i]] = {\"Name\": names[i],\n",
    "                                \"Month\": months[i],\n",
    "                                \"Year\": years[i],\n",
    "                                \"Max Sustained Wind\": max_sustained_winds[i],\n",
    "                                \"Areas Affected\": areas_affected[i],\n",
    "                                \"Damage\": updated_damages[i],\n",
    "                                \"Deaths\": deaths[i]}\n",
    "    return hurricanes\n",
    "\n",
    "hurricanes = hurricanes_dictionary(names, months, years, max_sustained_winds, areas_affected, damages, deaths)\n",
    "print(hurricanes)"
   ]
  },
  {
   "cell_type": "markdown",
   "id": "6d0a1933",
   "metadata": {},
   "source": [
    "3. In addition to organizing the hurricanes in a dictionary with names as the key, you want to be able to organize the hurricanes by year.\n",
    "\n",
    "   Write a function that converts the current dictionary of hurricanes to a new dictionary, where the keys are years and the values are lists containing a dictionary for each hurricane that occurred in that year.\n",
    "   \n",
    "   For example, the key `1932` would yield the value: `[{'Name': 'Bahamas', 'Month': 'September', 'Year': 1932, 'Max Sustained Wind': 160, 'Areas Affected': ['The Bahamas', 'Northeastern United States'], 'Damage': 'Damage not recorded', 'Deaths': 16}, {'Name': 'Cuba II', 'Month': 'November', 'Year': 1932, 'Max Sustained Wind': 175, 'Areas Affected': ['Lesser Antilles', 'Jamaica', 'Cayman Islands', 'Cuba', 'The Bahamas', 'Bermuda'], 'Damage': 40000000.0, 'Deaths': 3103}]`.\n",
    "   \n",
    "   Test your function on your hurricane dictionary."
   ]
  },
  {
   "cell_type": "code",
   "execution_count": 60,
   "id": "1ef2edea",
   "metadata": {},
   "outputs": [
    {
     "name": "stdout",
     "output_type": "stream",
     "text": [
      "[{'Name': 'Bahamas', 'Month': 'September', 'Year': 1932, 'Max Sustained Wind': 160, 'Areas Affected': ['The Bahamas', 'Northeastern United States'], 'Damage': 'Damages not recorded', 'Deaths': 16}, {'Name': 'Cuba II', 'Month': 'November', 'Year': 1932, 'Max Sustained Wind': 175, 'Areas Affected': ['Lesser Antilles', 'Jamaica', 'Cayman Islands', 'Cuba', 'The Bahamas', 'Bermuda'], 'Damage': 40000000.0, 'Deaths': 3103}]\n"
     ]
    }
   ],
   "source": [
    "# 3\n",
    "# Organizing by Year\n",
    "\n",
    "# create a new dictionary of hurricanes with year and key\n",
    "\n",
    "def hurricane_by_year(hurricanes):\n",
    "    \n",
    "    hurricane_by_year = dict()\n",
    "\n",
    "    for i in range(0, len(years)):\n",
    "        value = []\n",
    "        for cane in hurricanes:\n",
    "            if hurricanes[cane][\"Year\"] == years[i]:\n",
    "                value.append(hurricanes[cane])\n",
    "        hurricane_by_year[years[i]] = value\n",
    "        \n",
    "    return hurricane_by_year\n",
    "\n",
    "    \n",
    "list = hurricane_by_year(hurricanes)\n",
    "\n",
    "print(list[1932])"
   ]
  },
  {
   "cell_type": "markdown",
   "id": "66973f77",
   "metadata": {},
   "source": [
    "4. You believe that knowing how often each of the areas of the Atlantic are affected by these strong hurricanes is important for making preparations for future hurricanes.\n",
    "\n",
    "   Write a function that counts how often each area is listed as an affected area of a hurricane. Store and return the results in a dictionary where the keys are the affected areas and the values are counts of how many times the areas were affected.\n",
    "   \n",
    "   Test your function on your hurricane dictionary."
   ]
  },
  {
   "cell_type": "code",
   "execution_count": 34,
   "id": "bff86f77",
   "metadata": {},
   "outputs": [],
   "source": [
    "# 4\n",
    "# Counting Damaged Areas\n",
    "\n",
    "# create dictionary of areas to store the number of hurricanes involved in\n",
    "\n",
    "def count_damaged_areas(hurricanes):\n",
    "    \n",
    "    affected_areas_count = dict()\n",
    "    \n",
    "    for cane in hurricanes:\n",
    "        for area in hurricanes[cane][\"Areas Affected\"]:\n",
    "            if area not in affected_areas_count:\n",
    "                affected_areas_count[area] = 1\n",
    "            else:\n",
    "                affected_areas_count[area] += 1\n",
    "    \n",
    "    return affected_areas_count\n",
    "        \n",
    "affected_areas_count = count_damaged_areas(hurricanes)          \n"
   ]
  },
  {
   "cell_type": "markdown",
   "id": "e015eeb3",
   "metadata": {},
   "source": [
    "5. Write a function that finds the area affected by the most hurricanes, and how often it was hit.\n",
    "\n",
    "   Test your function on your affected area dictionary."
   ]
  },
  {
   "cell_type": "code",
   "execution_count": 61,
   "id": "643c73f9",
   "metadata": {},
   "outputs": [
    {
     "name": "stdout",
     "output_type": "stream",
     "text": [
      "Central America 9\n"
     ]
    }
   ],
   "source": [
    "# 5\n",
    "# Calculating Maximum Hurricane Count\n",
    "\n",
    "# find most frequently affected area and the number of hurricanes involved in\n",
    "\n",
    "def most_affected(affected_areas_count):\n",
    "    \n",
    "    max_area = \"\"\n",
    "    count = 0\n",
    "    for area in affected_areas_count:\n",
    "        if affected_areas_count[area] > count:\n",
    "            count = affected_areas_count[area]\n",
    "            max_area = area\n",
    "    return max_area, count\n",
    "\n",
    "max_area, count = most_affected(affected_areas_count)\n",
    "\n",
    "print(max_area, count)"
   ]
  },
  {
   "cell_type": "markdown",
   "id": "4c120f59",
   "metadata": {},
   "source": [
    "6. Write a function that finds the hurricane that caused the greatest number of deaths, and how many deaths it caused.\n",
    "\n",
    "   Test your function on your hurricane dictionary."
   ]
  },
  {
   "cell_type": "code",
   "execution_count": 62,
   "id": "ced02448",
   "metadata": {},
   "outputs": [
    {
     "name": "stdout",
     "output_type": "stream",
     "text": [
      "Mitch caused the most deaths with a total of 19325\n"
     ]
    }
   ],
   "source": [
    "# 6\n",
    "# Calculating the Deadliest Hurricane\n",
    "\n",
    "# find highest mortality hurricane and the number of deaths\n",
    "\n",
    "def most_deaths(hurricanes):\n",
    "    count = 0\n",
    "    hurricane = ''\n",
    "    for cane in hurricanes:\n",
    "        if hurricanes[cane][\"Deaths\"] > count:\n",
    "            count = hurricanes[cane][\"Deaths\"]\n",
    "            hurricane = cane\n",
    "    \n",
    "    print(\"{hurricane} caused the most deaths with a total of {count}\".format(hurricane=hurricane, count=count))\n",
    "    \n",
    "most_deaths(hurricanes)\n"
   ]
  },
  {
   "cell_type": "markdown",
   "id": "9ddd39b0",
   "metadata": {},
   "source": [
    "7. Just as hurricanes are rated by their windspeed, you want to try rating hurricanes based on other metrics.\n",
    "\n",
    "   Write a function that rates hurricanes on a mortality scale according to the following ratings, where the key is the rating and the value is the upper bound of deaths for that rating.\n",
    "   \n",
    "   ```py\n",
    "   mortality_scale = {0: 0,\n",
    "   1: 100,\n",
    "   2: 500,\n",
    "   3: 1000,\n",
    "   4: 10000}\n",
    "   ```\n",
    "   \n",
    "   For example, a hurricane with a `1` mortality rating would have resulted in greater than `0` but less than or equal to `100` deaths. A hurricane with a `5` mortality would have resulted in greater than `10000` deaths.\n",
    "   \n",
    "   Store the hurricanes in a new dictionary where the keys are the mortaility ratings and the values are lists containing a dictionary for each hurricane that falls into that mortality rating.\n",
    "   \n",
    "   Test your function on your hurricane dictionary."
   ]
  },
  {
   "cell_type": "code",
   "execution_count": 64,
   "id": "9eea4dc7",
   "metadata": {},
   "outputs": [
    {
     "data": {
      "text/plain": [
       "[{'Name': 'San Felipe II Okeechobee',\n",
       "  'Month': 'September',\n",
       "  'Year': 1928,\n",
       "  'Max Sustained Wind': 160,\n",
       "  'Areas Affected': ['Lesser Antilles',\n",
       "   'The Bahamas',\n",
       "   'United States East Coast',\n",
       "   'Atlantic Canada'],\n",
       "  'Damage': 100000000.0,\n",
       "  'Deaths': 4000},\n",
       " {'Name': 'Cuba II',\n",
       "  'Month': 'November',\n",
       "  'Year': 1932,\n",
       "  'Max Sustained Wind': 175,\n",
       "  'Areas Affected': ['Lesser Antilles',\n",
       "   'Jamaica',\n",
       "   'Cayman Islands',\n",
       "   'Cuba',\n",
       "   'The Bahamas',\n",
       "   'Bermuda'],\n",
       "  'Damage': 40000000.0,\n",
       "  'Deaths': 3103},\n",
       " {'Name': 'Janet',\n",
       "  'Month': 'September',\n",
       "  'Year': 1955,\n",
       "  'Max Sustained Wind': 175,\n",
       "  'Areas Affected': ['Lesser Antilles', 'Central America'],\n",
       "  'Damage': 658000000.0,\n",
       "  'Deaths': 1023},\n",
       " {'Name': 'David',\n",
       "  'Month': 'August',\n",
       "  'Year': 1979,\n",
       "  'Max Sustained Wind': 175,\n",
       "  'Areas Affected': ['The Caribbean', 'United States East coast'],\n",
       "  'Damage': 154000000000.0,\n",
       "  'Deaths': 2068},\n",
       " {'Name': 'Katrina',\n",
       "  'Month': 'August',\n",
       "  'Year': 2005,\n",
       "  'Max Sustained Wind': 175,\n",
       "  'Areas Affected': ['Bahamas', 'United States Gulf Coast'],\n",
       "  'Damage': 125000000000.0,\n",
       "  'Deaths': 1836},\n",
       " {'Name': 'Maria',\n",
       "  'Month': 'September',\n",
       "  'Year': 2017,\n",
       "  'Max Sustained Wind': 175,\n",
       "  'Areas Affected': ['Lesser Antilles',\n",
       "   'Virgin Islands',\n",
       "   'Puerto Rico',\n",
       "   'Dominican Republic',\n",
       "   'Turks and Caicos Islands'],\n",
       "  'Damage': 916000000000.0,\n",
       "  'Deaths': 3057}]"
      ]
     },
     "execution_count": 64,
     "metadata": {},
     "output_type": "execute_result"
    }
   ],
   "source": [
    "# 7\n",
    "# Rating Hurricanes by Mortality\n",
    "\n",
    "def mortality_scale(hurricanes):\n",
    "\n",
    "    mortality_scale = {0: 0,\n",
    "    1: 100,\n",
    "    2: 500,\n",
    "    3: 1000,\n",
    "    4: 10000}\n",
    "\n",
    "# categorize hurricanes in new dictionary with mortality severity as key\n",
    "\n",
    "    mortality_dict = {0:[], 1:[], 2:[], 3:[], 4:[], 5:[]}\n",
    "    \n",
    "    for cane in hurricanes:\n",
    "        num_deaths = hurricanes[cane][\"Deaths\"]\n",
    "        if num_deaths == mortality_scale[0]:\n",
    "            mortality_dict[0].append(hurricanes[cane])\n",
    "        elif num_deaths > mortality_scale[0] and num_deaths <= mortality_scale[1]:\n",
    "            mortality_dict[1].append(hurricanes[cane])\n",
    "        elif num_deaths > mortality_scale[1] and num_deaths <= mortality_scale[2]:\n",
    "            mortality_dict[2].append(hurricanes[cane])\n",
    "        elif num_deaths > mortality_scale[2] and num_deaths <= mortality_scale[3]:\n",
    "            mortality_dict[3].append(hurricanes[cane])\n",
    "        elif num_deaths > mortality_scale[3] and num_deaths <= mortality_scale[4]:\n",
    "            mortality_dict[4].append(hurricanes[cane])\n",
    "        elif num_deaths > mortality_scale[4]:\n",
    "            mortality_dict[5].append(hurricanes[cane])\n",
    "            \n",
    "    return mortality_dict\n",
    "\n",
    "mort = mortality_scale(hurricanes)\n",
    "\n",
    "mort[4]\n",
    "        "
   ]
  },
  {
   "cell_type": "markdown",
   "id": "199b0e1c",
   "metadata": {},
   "source": [
    "8. Write a function that finds the hurricane that caused the greatest damage, and how costly it was.\n",
    "\n",
    "   Test your function on your hurricane dictionary."
   ]
  },
  {
   "cell_type": "code",
   "execution_count": 57,
   "id": "b3dc79b4",
   "metadata": {},
   "outputs": [
    {
     "name": "stdout",
     "output_type": "stream",
     "text": [
      "Maria 916000000000.0\n"
     ]
    }
   ],
   "source": [
    "# 8\n",
    "# Calculating Hurricane Maximum Damage\n",
    "\n",
    "# find highest damage inducing hurricane and its total cost\n",
    "\n",
    "def max_damage(hurricanes):\n",
    "    cane_name = ''\n",
    "    damage = 0\n",
    "    for cane in hurricanes:\n",
    "        if isinstance(hurricanes[cane][\"Damage\"], float):\n",
    "            if hurricanes[cane][\"Damage\"] > damage:\n",
    "                cane_name = cane\n",
    "                damage = hurricanes[cane][\"Damage\"]\n",
    "    return cane_name, damage\n",
    "\n",
    "cane_name, damage = max_damage(hurricanes)\n",
    "print(cane_name, damage)\n"
   ]
  },
  {
   "cell_type": "markdown",
   "id": "58d22ddc",
   "metadata": {},
   "source": [
    "9. Lastly, you want to rate hurricanes according to how much damage they cause.\n",
    "\n",
    "   Write a function that rates hurricanes on a damage scale according to the following ratings, where the key is the rating and the value is the upper bound of damage for that rating.\n",
    "   ```py\n",
    "   damage_scale = {0: 0,\n",
    "   1: 100000000,\n",
    "   2: 1000000000,\n",
    "   3: 10000000000,\n",
    "   4: 50000000000}\n",
    "   ```\n",
    "   \n",
    "   For example, a hurricane with a `1` damage rating would have resulted in damages greater than `0` USD but less than or equal to `100000000` USD. A hurricane with a `5` damage rating would have resulted in damages greater than `50000000000` USD (talk about a lot of money).\n",
    "   \n",
    "   Store the hurricanes in a new dictionary where the keys are damage ratings and the values are lists containing a dictionary for each hurricane that falls into that damage rating.\n",
    "   \n",
    "   Test your function on your hurricane dictionary."
   ]
  },
  {
   "cell_type": "code",
   "execution_count": 71,
   "id": "e543f487",
   "metadata": {},
   "outputs": [
    {
     "data": {
      "text/plain": [
       "[{'Name': 'Camille',\n",
       "  'Month': 'August',\n",
       "  'Year': 1969,\n",
       "  'Max Sustained Wind': 175,\n",
       "  'Areas Affected': ['Cuba', 'United States Gulf Coast'],\n",
       "  'Damage': 142000000000.0,\n",
       "  'Deaths': 259},\n",
       " {'Name': 'David',\n",
       "  'Month': 'August',\n",
       "  'Year': 1979,\n",
       "  'Max Sustained Wind': 175,\n",
       "  'Areas Affected': ['The Caribbean', 'United States East coast'],\n",
       "  'Damage': 154000000000.0,\n",
       "  'Deaths': 2068},\n",
       " {'Name': 'Allen',\n",
       "  'Month': 'August',\n",
       "  'Year': 1980,\n",
       "  'Max Sustained Wind': 190,\n",
       "  'Areas Affected': ['The Caribbean',\n",
       "   'Yucatn Peninsula',\n",
       "   'Mexico',\n",
       "   'South Texas'],\n",
       "  'Damage': 124000000000.0,\n",
       "  'Deaths': 269},\n",
       " {'Name': 'Gilbert',\n",
       "  'Month': 'September',\n",
       "  'Year': 1988,\n",
       "  'Max Sustained Wind': 185,\n",
       "  'Areas Affected': ['Jamaica',\n",
       "   'Venezuela',\n",
       "   'Central America',\n",
       "   'Hispaniola',\n",
       "   'Mexico'],\n",
       "  'Damage': 71000000000.0,\n",
       "  'Deaths': 318},\n",
       " {'Name': 'Andrew',\n",
       "  'Month': 'August',\n",
       "  'Year': 1992,\n",
       "  'Max Sustained Wind': 175,\n",
       "  'Areas Affected': ['The Bahamas', 'Florida', 'United States Gulf Coast'],\n",
       "  'Damage': 265000000000.0,\n",
       "  'Deaths': 65},\n",
       " {'Name': 'Mitch',\n",
       "  'Month': 'October',\n",
       "  'Year': 1998,\n",
       "  'Max Sustained Wind': 180,\n",
       "  'Areas Affected': ['Central America', 'Yucatn Peninsula', 'South Florida'],\n",
       "  'Damage': 62000000000.0,\n",
       "  'Deaths': 19325},\n",
       " {'Name': 'Isabel',\n",
       "  'Month': 'September',\n",
       "  'Year': 2003,\n",
       "  'Max Sustained Wind': 165,\n",
       "  'Areas Affected': ['Greater Antilles',\n",
       "   'Bahamas',\n",
       "   'Eastern United States',\n",
       "   'Ontario'],\n",
       "  'Damage': 537000000000.0,\n",
       "  'Deaths': 51},\n",
       " {'Name': 'Ivan',\n",
       "  'Month': 'September',\n",
       "  'Year': 2004,\n",
       "  'Max Sustained Wind': 165,\n",
       "  'Areas Affected': ['The Caribbean', 'Venezuela', 'United States Gulf Coast'],\n",
       "  'Damage': 233000000000.0,\n",
       "  'Deaths': 124},\n",
       " {'Name': 'Emily',\n",
       "  'Month': 'July',\n",
       "  'Year': 2005,\n",
       "  'Max Sustained Wind': 160,\n",
       "  'Areas Affected': ['Windward Islands', 'Jamaica', 'Mexico', 'Texas'],\n",
       "  'Damage': 101000000000.0,\n",
       "  'Deaths': 17},\n",
       " {'Name': 'Katrina',\n",
       "  'Month': 'August',\n",
       "  'Year': 2005,\n",
       "  'Max Sustained Wind': 175,\n",
       "  'Areas Affected': ['Bahamas', 'United States Gulf Coast'],\n",
       "  'Damage': 125000000000.0,\n",
       "  'Deaths': 1836},\n",
       " {'Name': 'Wilma',\n",
       "  'Month': 'October',\n",
       "  'Year': 2005,\n",
       "  'Max Sustained Wind': 185,\n",
       "  'Areas Affected': ['Greater Antilles', 'Central America', 'Florida'],\n",
       "  'Damage': 294000000000.0,\n",
       "  'Deaths': 87},\n",
       " {'Name': 'Dean',\n",
       "  'Month': 'August',\n",
       "  'Year': 2007,\n",
       "  'Max Sustained Wind': 175,\n",
       "  'Areas Affected': ['The Caribbean', 'Central America'],\n",
       "  'Damage': 176000000000.0,\n",
       "  'Deaths': 45},\n",
       " {'Name': 'Matthew',\n",
       "  'Month': 'October',\n",
       "  'Year': 2016,\n",
       "  'Max Sustained Wind': 165,\n",
       "  'Areas Affected': ['Antilles',\n",
       "   'Venezuela',\n",
       "   'Colombia',\n",
       "   'United States East Coast',\n",
       "   'Atlantic Canada'],\n",
       "  'Damage': 151000000000.0,\n",
       "  'Deaths': 603},\n",
       " {'Name': 'Irma',\n",
       "  'Month': 'September',\n",
       "  'Year': 2017,\n",
       "  'Max Sustained Wind': 180,\n",
       "  'Areas Affected': ['Cape Verde',\n",
       "   'The Caribbean',\n",
       "   'British Virgin Islands',\n",
       "   'U.S. Virgin Islands',\n",
       "   'Cuba',\n",
       "   'Florida'],\n",
       "  'Damage': 648000000000.0,\n",
       "  'Deaths': 138},\n",
       " {'Name': 'Maria',\n",
       "  'Month': 'September',\n",
       "  'Year': 2017,\n",
       "  'Max Sustained Wind': 175,\n",
       "  'Areas Affected': ['Lesser Antilles',\n",
       "   'Virgin Islands',\n",
       "   'Puerto Rico',\n",
       "   'Dominican Republic',\n",
       "   'Turks and Caicos Islands'],\n",
       "  'Damage': 916000000000.0,\n",
       "  'Deaths': 3057},\n",
       " {'Name': 'Michael',\n",
       "  'Month': 'October',\n",
       "  'Year': 2018,\n",
       "  'Max Sustained Wind': 160,\n",
       "  'Areas Affected': ['Central America',\n",
       "   'United States Gulf Coast (especially Florida Panhandle)'],\n",
       "  'Damage': 251000000000.0,\n",
       "  'Deaths': 74}]"
      ]
     },
     "execution_count": 71,
     "metadata": {},
     "output_type": "execute_result"
    }
   ],
   "source": [
    "# 9\n",
    "# Rating Hurricanes by Damage\n",
    "\n",
    "\n",
    "# categorize hurricanes in new dictionary with damage severity as key\n",
    "\n",
    "# Convert damages of Hurricanes to a float and store them with their name in new dictionary\n",
    "def hurricane_rating(hurricanes):\n",
    "\n",
    "    damage_scale = {0: 0,\n",
    "                    1: 100000000,\n",
    "                    2: 1000000000,\n",
    "                    3: 10000000000,\n",
    "                    4: 50000000000}\n",
    "    \n",
    "    rating_dict = {0:[], 1:[], 2:[], 3:[], 4:[], 5:[]}\n",
    "    \n",
    "    for cane in hurricanes:\n",
    "        damages = hurricanes[cane][\"Damage\"]\n",
    "        if damages == damage_scale[0] or damages == \"Damages not recorded\":\n",
    "            rating_dict[0].append(hurricanes[cane])\n",
    "        elif damages > damage_scale[0] and damages <= damage_scale[1]:\n",
    "            rating_dict[1].append(hurricanes[cane])\n",
    "        elif damages > damage_scale[1] and damages <= damage_scale[2]:\n",
    "            rating_dict[2].append(hurricanes[cane])\n",
    "        elif damages > damage_scale[2] and damages <= damage_scale[3]:\n",
    "            rating_dict[3].append(hurricanes[cane])\n",
    "        elif damages > damage_scale[3] and damages <= damage_scale[4]:\n",
    "            rating_dict[4].append(hurricanes[cane])\n",
    "        elif damages > damage_scale[4]:\n",
    "            rating_dict[5].append(hurricanes[cane])\n",
    "                \n",
    "    return rating_dict\n",
    "\n",
    "mort = hurricane_rating(hurricanes)\n",
    "\n",
    "mort[5]  "
   ]
  },
  {
   "cell_type": "markdown",
   "id": "928c5fd2",
   "metadata": {},
   "source": [
    "## Solution"
   ]
  },
  {
   "cell_type": "markdown",
   "id": "252616a3",
   "metadata": {},
   "source": [
    "Great work! View the **Hurricane Analysis_Solution.ipynb** file or visit [our forums](https://discuss.codecademy.com/t/hurricane-analysis-challenge-project-python/462363) to compare your project to our sample solution code. You can also learn how to host your own solution on GitHub so you can share it with other learners! Your solution might look different than ours, and that's okay! There are multiple ways to solve these projects, and you'll learn more by seeing others' code."
   ]
  },
  {
   "cell_type": "code",
   "execution_count": null,
   "id": "da8f7141",
   "metadata": {},
   "outputs": [],
   "source": []
  }
 ],
 "metadata": {
  "kernelspec": {
   "display_name": "Python 3 (ipykernel)",
   "language": "python",
   "name": "python3"
  },
  "language_info": {
   "codemirror_mode": {
    "name": "ipython",
    "version": 3
   },
   "file_extension": ".py",
   "mimetype": "text/x-python",
   "name": "python",
   "nbconvert_exporter": "python",
   "pygments_lexer": "ipython3",
   "version": "3.9.13"
  },
  "vscode": {
   "interpreter": {
    "hash": "b784193cf0f9970b27f3c12f21dbff8ed97e3cf923dc23fe210654173bc3fdd0"
   }
  }
 },
 "nbformat": 4,
 "nbformat_minor": 5
}
